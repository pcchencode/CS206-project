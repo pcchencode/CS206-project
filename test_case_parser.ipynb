{
 "cells": [
  {
   "cell_type": "code",
   "execution_count": 5,
   "id": "47b4fe36-69df-4162-8210-21008ae9b3c5",
   "metadata": {},
   "outputs": [
    {
     "name": "stdout",
     "output_type": "stream",
     "text": [
      "Copy the following `curl` command and run it in your terminal:\n",
      "\n",
      "curl -X GET \"https://banks.data.fdic.gov/api/institutions?filters=STNAME%3A%22West+Virginia%22&sort_by=NAME&sort_order=ASC&limit=5&offset=0&format=json&download=false&filename=data_file\" -H \"accept: application/json\"\n"
     ]
    }
   ],
   "source": [
    "import urllib.parse\n",
    "\n",
    "# API endpoints\n",
    "API_BASE_URL = \"https://banks.data.fdic.gov/api/institutions\"\n",
    "\n",
    "# API parameters\n",
    "params = {\n",
    "    \"filters\": 'STNAME:\"West Virginia\"',\n",
    "    \"sort_by\": \"NAME\",\n",
    "    \"sort_order\": \"ASC\",\n",
    "    \"limit\": 5,\n",
    "    \"offset\": 0,\n",
    "    \"format\": \"json\",\n",
    "    \"download\": \"false\",\n",
    "    \"filename\": \"data_file\"\n",
    "}\n",
    "\n",
    "# convert to URL format\n",
    "query_string = urllib.parse.urlencode(params)\n",
    "\n",
    "# compose the full API URL\n",
    "api_url = f\"{API_BASE_URL}?{query_string}\"\n",
    "\n",
    "# `curl` command\n",
    "curl_command = f'curl -X GET \"{api_url}\" -H \"accept: application/json\"'\n",
    "print(\"Copy the following `curl` command and run it in your terminal:\\n\")\n",
    "print(curl_command)\n"
   ]
  },
  {
   "cell_type": "markdown",
   "id": "922c6ea5-6280-4a75-b0be-7fd7f8f21029",
   "metadata": {},
   "source": [
    "### send request"
   ]
  },
  {
   "cell_type": "code",
   "execution_count": 12,
   "id": "ba5a6c9f-0572-4c0b-b279-d1a7f85248fa",
   "metadata": {
    "scrolled": true
   },
   "outputs": [
    {
     "name": "stdout",
     "output_type": "stream",
     "text": [
      "200\n",
      "Response Data: {'meta': {'total': 305, 'parameters': {'filters': 'STNAME:\"West Virginia\"', 'limit': '5', 'offset': '0'}, 'index': {'name': 'institutions_20250228100008', 'createTimestamp': '2025-02-28T12:27:39Z'}}, 'data': [{'data': {'ZIP': '25303', 'SASSER': 0, 'CHRTAGNT': 'STATE', 'CONSERVE': 'N', 'REGAGENT2': '', 'STNAME': 'West Virginia', 'ROAQ': -1, 'INSDATE': '10/10/1977', 'TE06N528': '', 'TE06N529': '', 'OFFOA': 0, 'FDICDBS': 5, 'NAMEHCR': '', 'OCCDIST': '', 'CMSA': '', 'DEPDOM': 12308, 'CBSA_METRO_FLG': '1', 'TE10N528': '', 'NETINC': 63, 'CBSA_DIV_NO': '', 'MUTUAL': '0', 'OFFFOR': 0, 'INSSAVE': 0, 'CHARTER': '0', 'RSSDHCR': '', 'TE04N528': '', 'TE04N529': '', 'CERT': 22531, 'STALP': 'WV', 'SPECGRP': 7, 'CFPBENDDTE': '9999-12-31', 'CALLFORM': 34, 'SZ250BP': 0, 'TE09N528': '', 'IBA': 0, 'SZ100T1B': 0, 'INSBIF': 1, 'INSFDIC': 1, 'ENDEFYMD': '01/01/1991', 'MSA': '', 'TE02N528': '', 'CB': '1', 'SZ1BT10B': 0, 'TE02N529': '', 'TE07N528': '', 'FDICSUPV': '', 'FED': '05', 'REGAGNT': 'FDIC', 'NEWCERT': 21130, 'ASSET': 13635, 'CBSA_MICRO_FLG': '0', 'STCNTY': '54039', 'CSA_FLG': '1', 'CITY': 'South Charleston', 'CLCODE': '21', 'INACTIVE': 1, 'STALPHCR': '', 'INSAGNT1': 'BIF', 'BKCLASS': 'NM', 'EFFDATE': '01/01/1991', 'SUPRV_FD': '', 'DATEUPDT': '04/06/1991', 'INSAGNT2': '', 'TE05N528': '', 'TE05N529': '', 'ROEQ': -12.6, 'FDICREGN': 'Atlanta', 'SZ100': 1, 'WEBADDR': '', 'QBPRCOML': '2', 'COUNTY': 'Kanawha', 'DOCKET': '0', 'ULTCERT': '803', 'LAW_SASSER_FLG': 'N', 'PARCERT': '0', 'ROA': 0.5179302520593894, 'CFPBFLAG': 0, 'RISDATE': '12/31/2024', 'ROE': 5.83, 'INSCOML': 1, 'EQ': '1091', 'RUNDATE': '02/28/2025', 'TE03N528': '', 'TE03N529': '', 'NAME': '2nd Avenue Bank of South Charleston', 'HCTMULT': '', 'MDI_STATUS_DESC': 'NONE', 'CBSA_DIV': '', 'ADDRESS': '323 Second Avenue', 'OFFDOM': 1, 'SUBCHAPS': '0', 'LATITUDE': 38.36499, 'PROCDATE': '04/06/1991', 'INSSAIF': 0, 'DENOVO': '0', 'CBSA_NO': '16620', 'ACTIVE': 0, 'CBSA_METRO_NAME': 'Charleston, WV', 'CFPBEFFDTE': '9999-12-31', 'STCHRTR': 1, 'S10T250B': 0, 'LONGITUDE': -81.692311, 'REPDTE': '12/31/1990', 'MDI_STATUS_CODE': '', 'FORM31': '0', 'CSA': 'Charleston-Huntington-Ashland, WV-OH-KY', 'INSDIF': 0, 'TE01N529': '', 'ROAPTX': 0.6659103240763578, 'OI': 0, 'STNUM': '54', 'OAKAR': 0, 'ADDRESS2': '', 'SPECGRPN': 'Other Specialized Under 1 Billion', 'PRIORNAME1': 'Dollar Security Bank', 'ROAPTXQ': -1.6, 'FED_RSSD': '726636', 'CSA_NO': '170', 'CBSA_METRO': '16620', 'INSTCRCD': 0, 'DEP': 12308, 'UNINUM': '15716', 'INSTAG': '0', 'TE01N528': '', 'CITYHCR': '', 'TRACT': '', 'CBSA': 'Charleston, WV', 'CBSA_DIV_FLG': '0', 'TE08N528': '', 'NETINCQ': -35, 'CHANGEC1': 223, 'ESTYMD': '10/10/1977', 'FEDCHRTR': 0, 'TRUST': '0', 'ID': '22531'}, 'score': 0}, {'data': {'ZIP': '26070', 'SASSER': 0, 'CHRTAGNT': 'OTS', 'CONSERVE': 'N', 'REGAGENT2': '', 'STNAME': 'West Virginia', 'ROAQ': 0.77, 'INSDATE': '08/09/1989', 'TE06N528': '', 'TE06N529': '', 'OFFOA': 0, 'FDICDBS': 5, 'NAMEHCR': '', 'OCCDIST': '', 'CMSA': '', 'DEPDOM': 264514, 'CBSA_METRO_FLG': '1', 'TE10N528': '', 'NETINC': 1770, 'CBSA_DIV_NO': '', 'MUTUAL': '0', 'OFFFOR': 0, 'INSSAVE': 1, 'CHARTER': '0', 'RSSDHCR': '', 'TE04N528': '', 'TE04N529': '', 'CERT': 29472, 'STALP': 'WV', 'SPECGRP': 6, 'CFPBENDDTE': '9999-12-31', 'CALLFORM': 100, 'SZ250BP': 0, 'TE09N528': '', 'IBA': 0, 'SZ100T1B': 1, 'INSBIF': 0, 'INSFDIC': 1, 'ENDEFYMD': '12/31/2004', 'MSA': '', 'TE02N528': '', 'CB': '1', 'SZ1BT10B': 0, 'TE02N529': '', 'TE07N528': '', 'FDICSUPV': 'Atlanta', 'FED': '04', 'REGAGNT': 'OTS', 'NEWCERT': 30237, 'ASSET': 314016, 'CBSA_MICRO_FLG': '0', 'STCNTY': '54009', 'CSA_FLG': '1', 'CITY': 'Wellsburg', 'CLCODE': '33', 'INACTIVE': 1, 'STALPHCR': '', 'INSAGNT1': 'SAIF', 'BKCLASS': 'SB', 'EFFDATE': '12/31/2004', 'SUPRV_FD': '05', 'DATEUPDT': '01/14/2005', 'INSAGNT2': '', 'TE05N528': '', 'TE05N529': '', 'ROEQ': 8.58, 'FDICREGN': 'Atlanta', 'SZ100': 0, 'WEBADDR': '', 'QBPRCOML': '2', 'COUNTY': 'Brooke', 'DOCKET': '3507', 'ULTCERT': '7888', 'LAW_SASSER_FLG': 'N', 'PARCERT': '0', 'ROA': 0.7387674796442557, 'CFPBFLAG': 0, 'RISDATE': '12/31/2024', 'ROE': 8.43, 'INSCOML': 0, 'EQ': '28876', 'RUNDATE': '02/28/2025', 'TE03N528': '', 'TE03N529': '', 'NAME': 'Advance Financial Savings Bank, FSB', 'HCTMULT': '', 'MDI_STATUS_DESC': 'NONE', 'CBSA_DIV': '', 'ADDRESS': '1015 Commerce Street', 'OFFDOM': 7, 'SUBCHAPS': '0', 'LATITUDE': 40.272271, 'PROCDATE': '01/14/2005', 'INSSAIF': 1, 'DENOVO': '0', 'CBSA_NO': '48260', 'ACTIVE': 0, 'CBSA_METRO_NAME': 'Weirton-Steubenville, WV-OH', 'CFPBEFFDTE': '9999-12-31', 'STCHRTR': 0, 'S10T250B': 0, 'LONGITUDE': -80.609706, 'REPDTE': '09/30/2004', 'MDI_STATUS_CODE': '', 'FORM31': '0', 'CSA': 'Pittsburgh-New Castle-Weirton, PA-OH-WV', 'INSDIF': 0, 'TE01N529': '', 'ROAPTX': 1.1356984814192201, 'OI': 0, 'STNUM': '54', 'OAKAR': 0, 'ADDRESS2': '', 'SPECGRPN': 'Consumer Lending Specialization', 'PRIORNAME1': 'Advance Federal Savings and Loan Association', 'ROAPTXQ': 1.14, 'FED_RSSD': '562179', 'CSA_NO': '430', 'CBSA_METRO': '48260', 'INSTCRCD': 0, 'DEP': 264514, 'UNINUM': '42306', 'INSTAG': '0', 'TE01N528': '', 'CITYHCR': '', 'TRACT': '0', 'CBSA': 'Weirton-Steubenville, WV-OH', 'CBSA_DIV_FLG': '0', 'TE08N528': '', 'NETINCQ': 612, 'CHANGEC1': 223, 'ESTYMD': '06/22/1935', 'FEDCHRTR': 1, 'TRUST': '0', 'ID': '29472'}, 'score': 0}, {'data': {'ZIP': '25311', 'SASSER': 0, 'CHRTAGNT': 'STATE', 'CONSERVE': 'N', 'REGAGENT2': '', 'STNAME': 'West Virginia', 'ROAQ': 1.78, 'INSDATE': '03/25/1974', 'TE06N528': '', 'TE06N529': '', 'OFFOA': 0, 'FDICDBS': 5, 'NAMEHCR': 'MAXWELL CORP', 'OCCDIST': '', 'CMSA': '', 'DEPDOM': 13764, 'CBSA_METRO_FLG': '1', 'TE10N528': '', 'NETINC': 91, 'CBSA_DIV_NO': '', 'MUTUAL': '0', 'OFFFOR': 0, 'INSSAVE': 0, 'CHARTER': '0', 'RSSDHCR': '1141768', 'TE04N528': '', 'TE04N529': '', 'CERT': 21490, 'STALP': 'WV', 'SPECGRP': 8, 'CFPBENDDTE': '9999-12-31', 'CALLFORM': 34, 'SZ250BP': 0, 'TE09N528': '', 'IBA': 0, 'SZ100T1B': 0, 'INSBIF': 1, 'INSFDIC': 1, 'ENDEFYMD': '07/23/1993', 'MSA': '', 'TE02N528': '', 'CB': '1', 'SZ1BT10B': 0, 'TE02N529': '', 'TE07N528': '', 'FDICSUPV': '', 'FED': '05', 'REGAGNT': 'FDIC', 'NEWCERT': 6754, 'ASSET': 15032, 'CBSA_MICRO_FLG': '0', 'STCNTY': '54039', 'CSA_FLG': '1', 'CITY': 'Charleston', 'CLCODE': '21', 'INACTIVE': 1, 'STALPHCR': 'WV', 'INSAGNT1': 'BIF', 'BKCLASS': 'NM', 'EFFDATE': '07/23/1993', 'SUPRV_FD': '', 'DATEUPDT': '08/12/1993', 'INSAGNT2': '', 'TE05N528': '', 'TE05N529': '', 'ROEQ': 22.76, 'FDICREGN': 'Atlanta', 'SZ100': 1, 'WEBADDR': '', 'QBPRCOML': '2', 'COUNTY': 'Kanawha', 'DOCKET': '9658', 'ULTCERT': '628', 'LAW_SASSER_FLG': 'N', 'PARCERT': '0', 'ROA': 1.232505643340855, 'CFPBFLAG': 0, 'RISDATE': '12/31/2024', 'ROE': 16.21, 'INSCOML': 1, 'EQ': '1176', 'RUNDATE': '02/28/2025', 'TE03N528': '', 'TE03N529': '', 'NAME': 'Ameribank, Charleston', 'HCTMULT': '', 'MDI_STATUS_DESC': 'NONE', 'CBSA_DIV': '', 'ADDRESS': '1625 Washington Street', 'OFFDOM': 1, 'SUBCHAPS': '0', 'LATITUDE': 38.3392399999999, 'PROCDATE': '08/12/1993', 'INSSAIF': 0, 'DENOVO': '0', 'CBSA_NO': '16620', 'ACTIVE': 0, 'CBSA_METRO_NAME': 'Charleston, WV', 'CFPBEFFDTE': '9999-12-31', 'STCHRTR': 1, 'S10T250B': 0, 'LONGITUDE': -81.6148709999999, 'REPDTE': '06/30/1993', 'MDI_STATUS_CODE': '', 'FORM31': '0', 'CSA': 'Charleston-Huntington-Ashland, WV-OH-KY', 'INSDIF': 0, 'TE01N529': '', 'ROAPTX': 1.0699774266365665, 'OI': 0, 'STNUM': '54', 'OAKAR': 0, 'ADDRESS2': '', 'SPECGRPN': 'All Other Under 1 Billion', 'PRIORNAME1': 'The Guaranty Bank', 'ROAPTXQ': 1.32, 'FED_RSSD': '822323', 'CSA_NO': '170', 'CBSA_METRO': '16620', 'INSTCRCD': 0, 'DEP': 13764, 'UNINUM': '14862', 'INSTAG': '0', 'TE01N528': '', 'CITYHCR': 'NORTHFORK', 'TRACT': '', 'CBSA': 'Charleston, WV', 'CBSA_DIV_FLG': '0', 'TE08N528': '', 'NETINCQ': 65, 'CHANGEC1': 223, 'ESTYMD': '02/21/1974', 'FEDCHRTR': 0, 'TRUST': '0', 'ID': '21490'}, 'score': 0}, {'data': {'ZIP': '24801', 'SASSER': 0, 'CHRTAGNT': 'OTS', 'CONSERVE': 'N', 'REGAGENT2': '', 'STNAME': 'West Virginia', 'ROAQ': -20.71, 'INSDATE': '08/09/1989', 'TE06N528': '', 'TE06N529': '', 'OFFOA': 0, 'FDICDBS': 5, 'NAMEHCR': '', 'OCCDIST': '', 'CMSA': '', 'DEPDOM': 100901, 'TE10N528': '', 'NETINC': -6890, 'MUTUAL': '0', 'OFFFOR': 0, 'INSSAVE': 1, 'CHARTER': '0', 'RSSDHCR': '', 'TE04N528': '', 'TE04N529': '', 'CERT': 6782, 'STALP': 'WV', 'SPECGRP': 4, 'CFPBENDDTE': '9999-12-31', 'CALLFORM': 100, 'SZ250BP': 0, 'TE09N528': '', 'IBA': 0, 'SZ100T1B': 1, 'INSBIF': 0, 'INSFDIC': 1, 'ENDEFYMD': '09/19/2008', 'MSA': '', 'TE02N528': '', 'CB': '1', 'SZ1BT10B': 0, 'TE02N529': '', 'TE07N528': '', 'FDICSUPV': 'Atlanta', 'FED': '05', 'REGAGNT': 'OTS', 'NEWCERT': 2448, 'ASSET': 103965, 'STCNTY': '54047', 'CITY': 'Welch', 'CLCODE': '33', 'INACTIVE': 1, 'STALPHCR': '', 'INSAGNT1': 'DIF', 'BKCLASS': 'SB', 'EFFDATE': '09/19/2008', 'SUPRV_FD': '05', 'DATEUPDT': '09/30/2008', 'INSAGNT2': '', 'TE05N528': '', 'TE05N529': '', 'ROEQ': -407.04, 'FDICREGN': 'Atlanta', 'SZ100': 0, 'WEBADDR': '', 'QBPRCOML': '2', 'COUNTY': 'Mcdowell', 'DOCKET': '14177', 'ULTCERT': '2448', 'LAW_SASSER_FLG': 'N', 'PARCERT': '0', 'ROA': -11.652685698822893, 'CFPBFLAG': 0, 'RISDATE': '12/31/2024', 'ROE': -199.13, 'INSCOML': 0, 'EQ': '2734', 'RUNDATE': '02/28/2025', 'TE03N528': '', 'TE03N529': '', 'NAME': 'Ameribank, Inc.', 'HCTMULT': '', 'MDI_STATUS_DESC': 'NONE', 'ADDRESS': '70 Mcdowell Street', 'OFFDOM': 10, 'SUBCHAPS': '0', 'LATITUDE': 37.441185, 'PROCDATE': '09/30/2008', 'INSSAIF': 0, 'DENOVO': '0', 'ACTIVE': 0, 'CFPBEFFDTE': '9999-12-31', 'STCHRTR': 0, 'S10T250B': 0, 'LONGITUDE': -81.594426, 'REPDTE': '06/30/2008', 'MDI_STATUS_CODE': '', 'FORM31': '0', 'INSDIF': 1, 'TE01N529': '', 'ROAPTX': -11.652685698822893, 'OI': 0, 'STNUM': '54', 'OAKAR': 0, 'ADDRESS2': '', 'SPECGRPN': 'Commercial Lending Specialization', 'PRIORNAME1': 'Ameribank, National Association', 'PRIORNAME2': 'The First Clark National Bank of Northfork', 'ROAPTXQ': -20.71, 'FED_RSSD': '711735', 'CBSA_METRO': 0, 'INSTCRCD': 0, 'DEP': 100901, 'UNINUM': '4558', 'INSTAG': '0', 'TE01N528': '', 'CITYHCR': '', 'TRACT': '0', 'TE08N528': '', 'NETINCQ': -5666, 'CHANGEC1': 215, 'ESTYMD': '01/01/1906', 'FEDCHRTR': 1, 'TRUST': '0', 'ID': '6782'}, 'score': 0}, {'data': {'ZIP': '24801', 'SASSER': 0, 'CHRTAGNT': 'STATE', 'CONSERVE': 'N', 'REGAGENT2': '', 'STNAME': 'West Virginia', 'ROAQ': 0.02, 'INSDATE': '08/01/1983', 'TE06N528': '', 'TE06N529': '', 'OFFOA': 0, 'FDICDBS': 5, 'NAMEHCR': 'AMERICAN BANKSHARES INC', 'OCCDIST': '', 'CMSA': '', 'DEPDOM': 22599, 'TE10N528': '', 'NETINC': 248, 'MUTUAL': '0', 'OFFFOR': 0, 'INSSAVE': 0, 'CHARTER': '0', 'RSSDHCR': '1075117', 'TE04N528': '', 'TE04N529': '', 'CERT': 24610, 'STALP': 'WV', 'SPECGRP': 8, 'CFPBENDDTE': '9999-12-31', 'CALLFORM': 34, 'SZ250BP': 0, 'TE09N528': '', 'IBA': 0, 'SZ100T1B': 0, 'INSBIF': 1, 'INSFDIC': 1, 'ENDEFYMD': '01/02/1991', 'MSA': '', 'TE02N528': '', 'CB': '1', 'SZ1BT10B': 0, 'TE02N529': '', 'TE07N528': '', 'FDICSUPV': '', 'FED': '05', 'REGAGNT': 'FDIC', 'NEWCERT': 6782, 'ASSET': 24794, 'STCNTY': '54047', 'CITY': 'Welch', 'CLCODE': '21', 'INACTIVE': 1, 'STALPHCR': 'WV', 'INSAGNT1': 'BIF', 'BKCLASS': 'NM', 'EFFDATE': '01/02/1991', 'SUPRV_FD': '', 'DATEUPDT': '04/09/1991', 'INSAGNT2': '', 'TE05N528': '', 'TE05N529': '', 'ROEQ': 0.2, 'FDICREGN': 'Atlanta', 'SZ100': 1, 'WEBADDR': '', 'QBPRCOML': '2', 'COUNTY': 'Mcdowell', 'DOCKET': '0', 'ULTCERT': '2448', 'LAW_SASSER_FLG': 'N', 'PARCERT': '0', 'ROA': 1.0382737860988538, 'CFPBFLAG': 0, 'RISDATE': '12/31/2024', 'ROE': 12.88, 'INSCOML': 1, 'EQ': '2011', 'RUNDATE': '02/28/2025', 'TE03N528': '', 'TE03N529': '', 'NAME': 'Ameribank, Welch, West Virginia, Inc.', 'HCTMULT': '1', 'MDI_STATUS_DESC': 'NONE', 'ADDRESS': 'U.S. Highway 52 And Riverside Drive', 'OFFDOM': 2, 'SUBCHAPS': '0', 'LATITUDE': 37.417189, 'PROCDATE': '04/09/1991', 'INSSAIF': 0, 'DENOVO': '0', 'ACTIVE': 0, 'CFPBEFFDTE': '9999-12-31', 'STCHRTR': 1, 'S10T250B': 0, 'LONGITUDE': -81.589768, 'REPDTE': '12/31/1990', 'MDI_STATUS_CODE': '', 'FORM31': '0', 'INSDIF': 0, 'TE01N529': '', 'ROAPTX': 1.6788217267162917, 'OI': 0, 'STNUM': '54', 'OAKAR': 0, 'ADDRESS2': '', 'SPECGRPN': 'All Other Under 1 Billion', 'ROAPTXQ': 0.2, 'FED_RSSD': '976132', 'CBSA_METRO': 0, 'INSTCRCD': 0, 'DEP': 22599, 'UNINUM': '17094', 'INSTAG': '0', 'TE01N528': '', 'CITYHCR': 'WELCH', 'TRACT': '', 'TE08N528': '', 'NETINCQ': 1, 'CHANGEC1': 223, 'ESTYMD': '08/01/1983', 'FEDCHRTR': 0, 'TRUST': '0', 'ID': '24610'}, 'score': 0}], 'totals': {'count': 305}}\n"
     ]
    }
   ],
   "source": [
    "import requests\n",
    "\n",
    "response = requests.get(api_url)\n",
    "print(response.status_code)\n",
    "if response.status_code == 200:\n",
    "    print(f\"Response Data: {response.json()}\")"
   ]
  },
  {
   "cell_type": "code",
   "execution_count": null,
   "id": "d130289e-7a70-40bf-94b9-ae004d7df060",
   "metadata": {},
   "outputs": [],
   "source": []
  }
 ],
 "metadata": {
  "kernelspec": {
   "display_name": "Python [conda env:base] *",
   "language": "python",
   "name": "conda-base-py"
  },
  "language_info": {
   "codemirror_mode": {
    "name": "ipython",
    "version": 3
   },
   "file_extension": ".py",
   "mimetype": "text/x-python",
   "name": "python",
   "nbconvert_exporter": "python",
   "pygments_lexer": "ipython3",
   "version": "3.12.7"
  }
 },
 "nbformat": 4,
 "nbformat_minor": 5
}
